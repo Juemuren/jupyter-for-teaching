{
 "cells": [
  {
   "cell_type": "markdown",
   "id": "402ddd18",
   "metadata": {},
   "source": [
    "# Jupyter\n",
    "\n",
    "- [简介](#简介)\n",
    "- [功能](#功能)\n",
    "- [安装](#安装)\n",
    "- [使用](#使用)\n",
    "    - [Markdown](#Markdown)\n",
    "    - [Code](#Code)\n",
    "    - [Magic](#Magic)\n",
    "- [导出](#导出)\n"
   ]
  },
  {
   "cell_type": "markdown",
   "id": "20268bee",
   "metadata": {},
   "source": [
    "## 简介\n",
    "\n",
    "Jupyter 是个交互式开发环境，由**前端**、**后端**和**内核**组成。前端提供了可交互的界面，并能够进行渲染；后端负责处理前端的请求，并和内核通信；内核可以实际执行代码，并提供了特殊命令。\n",
    "\n",
    "![jupyter-arch](jupyter-arch.svg)\n"
   ]
  },
  {
   "cell_type": "markdown",
   "id": "68961114",
   "metadata": {},
   "source": [
    "## 功能\n",
    "\n",
    "### 编程笔记本\n",
    "\n",
    "Jupyter 使用特殊的**笔记本**文件格式，可以将文档、代码等放在一起展示\n",
    "\n",
    "- 文档是基于 *Markdown* 的，**渲染效果和前端有关**\n",
    "- 代码支持使用不同的语言，需要**安装对应的内核**。\n",
    "\n",
    "笔记本可以使用工具（比如 `nbconvert` 和 `pandoc`）导出为别的格式，包括但不限于 *HTML* 和 *PDF* 。\n",
    "\n",
    "> Jupyter 的发展历史\n",
    "> \n",
    "> 最早 Jupyter 叫做 `IPython Notebook`，只支持 `python`，这也就是为什么文件拓展名为 `.ipynb`。后来改进了架构，分离了后端和内核，可以支持更多的语言，比如 `Julia` 和 `R`，这便是新名字 `Ju(Julia)pyt(Python)er(R)` 的由来。而现在支持的语言越来越多，甚至连 `C++` 也能支持了\n",
    "\n",
    "### 远程开发\n",
    "\n",
    "Jupyter 由于其前后端分离的架构设计，天然适合远程开发，这使得其在人工智能和科学计算领域非常流行。这些领域非常依赖机器性能，但没有人愿意抱着厚重机器到处跑。但有了 Jupyter，只需用轻薄本连上一个强大的远程服务器，就可以愉快地开发了。\n",
    "\n",
    "### 交互式开发\n",
    "\n",
    "Jupyter 还代表了一种新的编程方式，同时拥有 *REPL* 和 *直接运行整个文件* 的优点。代码是写在一个个块里的，你可以单独执行一个块的代码，也可以一次执行所有块的代码。甚至，配合一些工具，你还可以给块分组，然后单独执行某个组里的代码。\n",
    "\n",
    "Jupyter 还提供了一些魔法命令，有很多实用的功能，并且支持直接运行外部命令。这也使得 Jupyter 不仅仅是一个编辑器，而成为了一个集成开发环境。\n"
   ]
  },
  {
   "cell_type": "markdown",
   "id": "7214abcb",
   "metadata": {},
   "source": [
    "## 安装\n",
    "\n",
    "Jupyter 为了远程开发和多语言支持而设计了复杂的架构。因此，想要本地使用 Jupyter，不仅要有前端，还要有后端和内核。当然，如果你想进行远程开发的话，那么只需本地有前端就行，后端和内核都可以运行在别的机器上。\n",
    "\n",
    "- 前端可以直接使用**浏览器**，此时界面会取决于后端。或者也可以使用支持 Jupyter 的**编辑器**，比如 `VSCode`，不过需要下载 [Jupyter](https://marketplace.visualstudio.com/items?itemName=ms-toolsai.jupyter) 插件。\n",
    "- 后端可以选择 `jupyterlab` 或 `notebook`，两者都可以通过 `pip` 安装，jupyterlab 可能更好一点。`VSCode` 的插件实现了后端的主要功能，因此可以不额外安装后端。\n",
    "- 内核有很多种，不同语言自然有不同的内核，一种语言也可能有多种内核。python 的内核一般用 `ipykernel`，通过 `pip install ipykernel` 就可以安装。你可以在[这里](https://github.com/jupyter/jupyter/wiki/Jupyter-kernels)找到目前能用的所有语言的所有内核\n"
   ]
  },
  {
   "cell_type": "markdown",
   "id": "cdfdfe59",
   "metadata": {},
   "source": [
    "## 使用\n",
    "\n",
    "> 不同的前端之间使用方法可能差异很大，可以阅读官方文档获得更详细的说明。\n",
    "\n",
    "### VSCode\n",
    "\n",
    "首先确保已经安装了 `ipykernel` 和 [Jupyter](https://marketplace.visualstudio.com/items?itemName=ms-toolsai.jupyter) 插件。\n",
    "\n",
    "然后新建一个 `test.ipynb` 文件，输入 VSCode 命令  `Jupyter: Select Interpreter to Start Jupyter Server`，选择正确的内核。\n",
    "\n",
    "最后就可以开始愉快的编程了。\n",
    "\n",
    "> 更详细的使用说明可以参考[官方文档](https://code.visualstudio.com/docs/datascience/jupyter-notebooks)\n",
    "\n",
    "### Browser\n",
    "\n",
    "如果你使用浏览器作为前端，那么你需要本地启动一个后端服务器。运行命令后会自动在浏览器中打开给定的 **URL**，你也可以手动输入。\n",
    "\n",
    "```sh\n",
    "# jupyter notebook\n",
    "jupyter notebook\n",
    "# jupyterlab\n",
    "jupyter lab\n",
    "```\n"
   ]
  },
  {
   "cell_type": "markdown",
   "id": "49699c10",
   "metadata": {},
   "source": [
    "## Markdown\n",
    "\n",
    "Markdown 是一种标记语言，可理解为语法更简单的 **HTML**，因此算是 *HTMLite*。但同时大多数 Markdown 标准又支持内嵌 **HTML** 元素，因此 HTML 能做的 Markdown 都能做，算是个 *SuperHTML*。\n",
    "\n",
    "> Markdown 有个缺陷，就是标准不统一。因此具体的渲染效果和使用的前端有关\n",
    "\n",
    "### 强调\n",
    "\n",
    "*斜体* **粗体** ~~删除线~~\n",
    "\n",
    "### 引用\n",
    "\n",
    "> 引用\n",
    ">> 嵌套引用\n",
    "\n",
    "### 代码\n",
    "\n",
    "`内联代码` 和代码块\n",
    "\n",
    "```python\n",
    "print(\"代码块\")\n",
    "print(\"可以多行\")\n",
    "```\n",
    "\n",
    "### 列表\n",
    "\n",
    "#### 无序列表\n",
    "\n",
    "- 一项\n",
    "- 另一项\n",
    "\n",
    "#### 有序列表\n",
    "\n",
    "1. 第一项\n",
    "2. 第二项\n",
    "3. 第三项\n",
    "\n",
    "### 表格\n",
    "\n",
    "| 居中 | 左对齐 | 右对齐 |\n",
    "|:------:|:------|-----:|\n",
    "| 学号 | 114514 | 1919180 |\n",
    "| 完成日期 | 2025.10.26 | 2025.10.27 |\n",
    "\n",
    "### 公式\n",
    "\n",
    "内联公式 $e^{i\\pi} + 1 = 0$ 和公式块\n",
    "\n",
    "$$\n",
    "\\begin{equation}\n",
    "e^x=\\sum_{i=0}^\\infty \\frac{1}{i!}x^i\n",
    "\\end{equation}\n",
    "$$\n",
    "\n",
    "### 链接和图片\n",
    "\n",
    "[外部链接](https://bilibili.com \"Bilibili\")\n",
    "\n",
    "![example](example.gif)\n",
    "\n",
    "### HTML\n",
    "\n",
    "<details>\n",
    "  <div>\n",
    "    这是 HTML 的 details 标签，后面还用注释隐藏了一些内容\n",
    "  </div>\n",
    "  <div>\n",
    "    这些内容用来说明 Markdown 的注释语法，以及展示更多的 HTML 标签\n",
    "  </div>\n",
    "</details>\n",
    "\n",
    "<!-- <video width=\"320\" height=\"240\" controls>\n",
    "  <source src=\"example.mp4\" type=\"video/mp4\">\n",
    "</video> -->\n",
    "\n",
    "<!-- <audio controls>\n",
    "  <source src=\"example.flac\" type=\"audio/mpeg\">\n",
    "</audio> -->\n"
   ]
  },
  {
   "cell_type": "markdown",
   "id": "0afe48d5",
   "metadata": {},
   "source": [
    "## Code"
   ]
  },
  {
   "cell_type": "code",
   "execution_count": 1,
   "id": "076f3888",
   "metadata": {},
   "outputs": [
    {
     "name": "stdout",
     "output_type": "stream",
     "text": [
      "hello world\n"
     ]
    }
   ],
   "source": [
    "print('hello world')"
   ]
  },
  {
   "cell_type": "markdown",
   "id": "29feacea",
   "metadata": {},
   "source": [
    "### 最小二乘法\n",
    "\n",
    "最小二乘法的演示，使用了矩阵法方程的形式，并包含了数据采样和可视化环节\n",
    "\n",
    "用到的库\n",
    "\n",
    "- matplotlib\n",
    "- numpy"
   ]
  },
  {
   "cell_type": "code",
   "execution_count": null,
   "id": "a5a9fea9",
   "metadata": {},
   "outputs": [],
   "source": [
    "import numpy as np\n",
    "import matplotlib.pyplot as plt\n",
    "\n",
    "def sample(a: float, b: float, n: int, xMin: float, xMax: float, ySigma: float):\n",
    "    \"\"\"线性高斯模型采样\n",
    "\n",
    "    Args:\n",
    "        a (float): 直线斜率\n",
    "        b (float): 直线截距\n",
    "        n (int): 采样点数量\n",
    "        xMin (float): x 下界\n",
    "        xMax (float): x 上界\n",
    "        ySigma (float): y 标准差\n",
    "\n",
    "    Returns:\n",
    "        (ndarray, ndarray): X 和 Y 的列表\n",
    "    \"\"\"\n",
    "    X = np.random.uniform(xMin, xMax, n)\n",
    "    Y = np.random.normal(a * X + b, ySigma)\n",
    "    return X, Y\n",
    "\n",
    "def NF(X, Y):\n",
    "    \"\"\"法方程\"\"\"\n",
    "    X = np.matrix([X, np.ones(X.size)]).T\n",
    "    Y = np.matrix(Y).T\n",
    "    N = np.matrix(X.T @ X)\n",
    "    K = N.I @ X.T @ Y\n",
    "    return K[0, 0], K[1, 0]\n",
    "\n",
    "def plot_result_and_data(X, Y, a, b):\n",
    "    plt.scatter(X, Y)\n",
    "    plt.plot(X, a * X + b, c='red')\n",
    "    plt.show()"
   ]
  },
  {
   "cell_type": "code",
   "execution_count": null,
   "id": "1bb52c2a",
   "metadata": {},
   "outputs": [
    {
     "data": {
      "image/png": "[encoded data removed]",
      "text/plain": [
       "<Figure size 640x480 with 1 Axes>"
      ]
     },
     "metadata": {},
     "output_type": "display_data"
    }
   ],
   "source": [
    "X, Y = sample(a=3, b=1, n=50, xMin=0, xMax=10, ySigma=1)\n",
    "a, b = NF(X, Y)\n",
    "plot_result_and_data(X, Y, a, b)"
   ]
  },
  {
   "cell_type": "markdown",
   "id": "31a861e7",
   "metadata": {},
   "source": [
    "### 康威生命游戏\n",
    "\n",
    "一个用 Python 实现的康威生命游戏\n",
    "\n",
    "用到的库\n",
    "\n",
    "- os\n",
    "- time\n",
    "- copy"
   ]
  },
  {
   "cell_type": "code",
   "execution_count": 7,
   "id": "f5fc9f54",
   "metadata": {},
   "outputs": [],
   "source": [
    "import os\n",
    "import time\n",
    "import copy\n",
    "\n",
    "class GameOfLife:\n",
    "    def __init__(self, width: int, height: int, grids: list[tuple[int, int]]):\n",
    "        \"\"\"初始化游戏\n",
    "\n",
    "        Args:\n",
    "            width (int): 棋盘宽度\n",
    "            height (int): 棋盘高度\n",
    "            grids (list[tuple[int, int]]): 初始细胞\n",
    "        \"\"\"\n",
    "        self.width = width\n",
    "        self.height = height\n",
    "        self.grid = [[False for _ in range(width)] for _ in range(height)]\n",
    "        self.initialize_grid(grids)\n",
    "    \n",
    "    def initialize_grid(self, grids: list[tuple[int, int]]):\n",
    "        for i, j in grids:\n",
    "            self.grid[i][j] = True\n",
    "    \n",
    "    def count_neighbors(self, x, y):\n",
    "        count = 0\n",
    "        for i in range(-1, 2):\n",
    "            for j in range(-1, 2):\n",
    "                if i == 0 and j == 0:\n",
    "                    continue\n",
    "                \n",
    "                nx = (x + i + self.height) % self.height\n",
    "                ny = (y + j + self.width) % self.width\n",
    "                \n",
    "                if self.grid[nx][ny]:\n",
    "                    count += 1\n",
    "        return count\n",
    "    \n",
    "    def update(self):\n",
    "        new_grid = copy.deepcopy(self.grid)\n",
    "        \n",
    "        for i in range(self.height):\n",
    "            for j in range(self.width):\n",
    "                neighbors = self.count_neighbors(i, j)\n",
    "                \n",
    "                if self.grid[i][j]:\n",
    "                    new_grid[i][j] = neighbors in [2, 3]\n",
    "                else:\n",
    "                    new_grid[i][j] = neighbors == 3\n",
    "        \n",
    "        self.grid = new_grid\n",
    "    \n",
    "    def display(self):\n",
    "        os.system('cls' if os.name == 'nt' else 'clear')\n",
    "        \n",
    "        for i in range(self.height):\n",
    "            for j in range(self.width):\n",
    "                print('x ' if self.grid[i][j] else '- ', end='')\n",
    "            print()\n",
    "    \n",
    "    def run(self, generations: int, interval: float):\n",
    "        \"\"\"运行游戏\n",
    "\n",
    "        Args:\n",
    "            generations (int): 轮次\n",
    "            interval (float): 间隔时间\n",
    "        \"\"\"\n",
    "        for _ in range(generations):\n",
    "            self.display()\n",
    "            self.update()\n",
    "            time.sleep(interval)"
   ]
  },
  {
   "cell_type": "code",
   "execution_count": null,
   "id": "d7c1909c",
   "metadata": {},
   "outputs": [],
   "source": [
    "# init_grids = [(1, 2), (2, 3), (3, 1), (3, 2), (3, 3)] # 滑翔机\n",
    "# init_grids = [(1,2), (2,2), (3,2)] # 闪烁灯\n",
    "init_grids = [(5,6), (7,5), (7,6), (7,7)] # 十细胞\n",
    "game = GameOfLife(30, 30, init_grids)\n",
    "game.run(30, 0.2)\n"
   ]
  },
  {
   "cell_type": "markdown",
   "id": "55d18be5",
   "metadata": {},
   "source": [
    "### 统计视频评论\n",
    "\n",
    "获取 Bilibili 视频的评论，并进行简单的统计。示例视频为[《明日方舟》2025「感谢庆典」活动宣传PV](https://www.bilibili.com/video/BV1JQsoz3EtK)\n",
    "\n",
    "用到的库\n",
    "\n",
    "- bilibili-api-python\n",
    "- matplotlib\n",
    "- numpy\n",
    "- dotenv\n",
    "- os\n",
    "\n",
    "如需使用请在根目录新建一个 `.env` 文件，复制以下的内容并替换后面的值。这些值用于生成登陆凭证，获取方法可参考[这个文档](https://nemo2011.github.io/bilibili-api/#/get-credential?id=%e8%8e%b7%e5%8f%96-credential-%e7%b1%bb%e6%89%80%e9%9c%80%e4%bf%a1%e6%81%af)\n",
    "\n",
    "```ini\n",
    "SESSDATA=你的 SESSDATA\n",
    "BILI_JCT=你的 bili_jct\n",
    "BUVID=你的 buvid3\n",
    "DEDEUSERID=你的 DedeUserID\n",
    "```"
   ]
  },
  {
   "cell_type": "code",
   "execution_count": 4,
   "id": "b400fef7",
   "metadata": {},
   "outputs": [],
   "source": [
    "from bilibili_api import comment, sync, video, Credential\n",
    "from dotenv import load_dotenv\n",
    "import os\n",
    "\n",
    "load_dotenv()\n",
    "sessdata = os.getenv(\"SESSDATA\")\n",
    "bili_jct = os.getenv(\"BILI_JCT\")\n",
    "buvid3 = os.getenv(\"BUVID\")\n",
    "dedeuserid = os.getenv(\"DEDEUSERID\")\n",
    "credential = Credential(sessdata=sessdata, bili_jct=bili_jct, buvid3=buvid3, dedeuserid=dedeuserid)"
   ]
  },
  {
   "cell_type": "code",
   "execution_count": null,
   "id": "6ca89a02",
   "metadata": {},
   "outputs": [],
   "source": [
    "def bv_to_id(bvid: str) -> int:\n",
    "    \"\"\"视频 BV 转视频 ID\n",
    "\n",
    "    Args:\n",
    "        bvid (str): 视频 BV\n",
    "\n",
    "    Returns:\n",
    "        int: 视频 ID\n",
    "    \"\"\"\n",
    "    v = video.Video(bvid=bvid)\n",
    "    aid = v.get_aid()\n",
    "    return aid\n",
    "\n",
    "async def get_comments(bv: str, page_max: int, credential: Credential) -> list:\n",
    "    \"\"\"获取视频评论\n",
    "\n",
    "    Args:\n",
    "        bv (str): 视频 BV\n",
    "        page_max (int): 页码上限，每页有 20 个评论\n",
    "        credential (Credential): 登陆凭证\n",
    "\n",
    "    Returns:\n",
    "        list: 评论列表\n",
    "    \"\"\"\n",
    "    aid = bv_to_id(bv)\n",
    "    comments = []\n",
    "    page = 1\n",
    "    pag = \"\"\n",
    "\n",
    "    while True:\n",
    "        c = await comment.get_comments_lazy(aid, comment.CommentResourceType.VIDEO, offset=pag, credential=credential)\n",
    "\n",
    "        pag = c[\"cursor\"][\"pagination_reply\"][\"next_offset\"]\n",
    "        replies = c['replies']\n",
    "        if replies is None:\n",
    "            break\n",
    "\n",
    "        comments.extend(replies)\n",
    "        page += 1\n",
    "\n",
    "        if page > page_max:\n",
    "            break\n",
    "    return comments\n",
    "\n",
    "def get_comment_username(comment):\n",
    "    return comment['member']['uname']\n",
    "\n",
    "def get_comment_content(comment):\n",
    "    return comment['content']['message']\n",
    "\n",
    "def print_comments(comments: list, num_max: int):\n",
    "    \"\"\"打印评论内容\n",
    "\n",
    "    Args:\n",
    "        comments (list): 评论列表\n",
    "        num_max (int): 最大数量\n",
    "    \"\"\"\n",
    "    for i, cmt in enumerate(comments):\n",
    "        print(f\"[{i + 1}]{get_comment_username(cmt)}: {get_comment_content(cmt)}\")\n",
    "        if (i + 1 > num_max):\n",
    "            break\n",
    "\n",
    "def comments_count_by_username(comments: list):\n",
    "    count_by_username = {}\n",
    "    for cmt in comments:\n",
    "        username = get_comment_username(cmt)\n",
    "        count_by_username[username] = count_by_username.get(username, 0) + 1\n",
    "    return count_by_username"
   ]
  },
  {
   "cell_type": "code",
   "execution_count": 7,
   "id": "a083932c",
   "metadata": {},
   "outputs": [
    {
     "data": {
      "text/plain": [
       "2000"
      ]
     },
     "execution_count": 7,
     "metadata": {},
     "output_type": "execute_result"
    }
   ],
   "source": [
    "comments = sync(get_comments(\"BV1JQsoz3EtK\", 100, credential))\n",
    "len(comments)"
   ]
  },
  {
   "cell_type": "code",
   "execution_count": null,
   "id": "211a550c",
   "metadata": {},
   "outputs": [],
   "source": [
    "print_comments(comments, 100)"
   ]
  },
  {
   "cell_type": "code",
   "execution_count": 9,
   "id": "86f3af7a",
   "metadata": {},
   "outputs": [],
   "source": [
    "import matplotlib.pyplot as plt\n",
    "import numpy as np\n",
    "\n",
    "\n",
    "def plot_lorenz_curve(count_dict):\n",
    "    \"\"\"\n",
    "    绘制归一化的洛伦兹曲线，并计算基尼系数\n",
    "    \"\"\"\n",
    "    # 排序\n",
    "    comment_counts = sorted(count_dict.values())\n",
    "    n = len(comment_counts)\n",
    "    total_comments = sum(comment_counts)\n",
    "\n",
    "    # 归一化\n",
    "    cumulative_user_ratio = np.arange(1, n + 1) / n\n",
    "    cumulative_comment_ratio = np.cumsum(comment_counts) / total_comments\n",
    "\n",
    "    # 绘制洛伦兹曲线\n",
    "    plt.plot(\n",
    "        cumulative_user_ratio,\n",
    "        cumulative_comment_ratio,\n",
    "        color=\"blue\",\n",
    "        label=\"Lorenz Curve\",\n",
    "    )\n",
    "\n",
    "    # 绘制绝对平均线\n",
    "    plt.plot([0, 1], [0, 1], \"--\", color=\"red\", label=\"Absolute Mean Line\")\n",
    "\n",
    "    # 限制横纵轴显示范围\n",
    "    plt.xlim(0, 1)\n",
    "    plt.ylim(0, 1)\n",
    "\n",
    "    # 计算基尼系数\n",
    "    AUC = np.trapezoid(cumulative_comment_ratio, cumulative_user_ratio)\n",
    "    gini_coefficient = 1 - 2 * AUC\n",
    "\n",
    "    # 添加其余信息\n",
    "    plt.title(\n",
    "        f\"Lorenz Curve for Comments (Gini: {gini_coefficient:.3f})\",\n",
    "    )\n",
    "    plt.xlabel(\"Cumulative user ratio\")\n",
    "    plt.ylabel(\"Cumulative review ratio\")\n",
    "    plt.legend()\n",
    "    plt.tight_layout()\n",
    "    plt.show()\n",
    "\n",
    "    return gini_coefficient"
   ]
  },
  {
   "cell_type": "code",
   "execution_count": 10,
   "id": "0f2cc245",
   "metadata": {},
   "outputs": [
    {
     "data": {
      "image/png": "[encoded data removed]",
      "text/plain": [
       "<Figure size 640x480 with 1 Axes>"
      ]
     },
     "metadata": {},
     "output_type": "display_data"
    },
    {
     "name": "stdout",
     "output_type": "stream",
     "text": [
      "基尼系数为: 0.724731796116505\n"
     ]
    }
   ],
   "source": [
    "count_by_username = comments_count_by_username(comments)\n",
    "gini = plot_lorenz_curve(count_by_username)\n",
    "print(f\"基尼系数为: {gini}\")"
   ]
  },
  {
   "cell_type": "markdown",
   "id": "08f733e4",
   "metadata": {},
   "source": [
    "## Magic\n",
    "\n",
    "想了解更多 `IPython` 的魔法可参阅[官方文档](https://scipy-ipython.readthedocs.io/en/latest/interactive/magics.html)，或者运行 `%magic` 魔法命令"
   ]
  },
  {
   "cell_type": "code",
   "execution_count": null,
   "id": "a329d110",
   "metadata": {},
   "outputs": [],
   "source": [
    "%magic"
   ]
  },
  {
   "cell_type": "markdown",
   "id": "0444170d",
   "metadata": {},
   "source": [
    "### 前端魔法"
   ]
  },
  {
   "cell_type": "code",
   "execution_count": null,
   "id": "eaa3da04",
   "metadata": {
    "vscode": {
     "languageId": "html"
    }
   },
   "outputs": [],
   "source": [
    "%%html\n",
    "<h1>这是 HTML</h1>\n",
    "<style>\n",
    "/* 在 VSCode 里甚至可以改变编辑器自身的样式 */\n",
    "body {\n",
    "    background-color: green;\n",
    "    background-image: url(\"example.gif\");\n",
    "}\n",
    "button {\n",
    "    background-color: pink;\n",
    "}\n",
    "</style>\n",
    "<button onclick=\"alert('VSCode 是全宇宙最好的编辑器')\">\n",
    "    这是按钮\n",
    "</button>"
   ]
  },
  {
   "cell_type": "markdown",
   "id": "e05e611c",
   "metadata": {},
   "source": [
    "### 内置魔法"
   ]
  },
  {
   "cell_type": "code",
   "execution_count": 11,
   "id": "6578643c",
   "metadata": {},
   "outputs": [
    {
     "name": "stdout",
     "output_type": "stream",
     "text": [
      "CPU times: total: 15.6 ms\n",
      "Wall time: 1 s\n"
     ]
    }
   ],
   "source": [
    "%time time.sleep(1)"
   ]
  },
  {
   "cell_type": "code",
   "execution_count": 12,
   "id": "33b3e681",
   "metadata": {},
   "outputs": [
    {
     "name": "stdout",
     "output_type": "stream",
     "text": [
      "这是魔法\n"
     ]
    }
   ],
   "source": [
    "%run hello.py"
   ]
  },
  {
   "cell_type": "code",
   "execution_count": null,
   "id": "946644ef",
   "metadata": {},
   "outputs": [],
   "source": [
    "%mamba list"
   ]
  },
  {
   "cell_type": "markdown",
   "id": "d9eb1807",
   "metadata": {},
   "source": [
    "### 外部魔法"
   ]
  },
  {
   "cell_type": "code",
   "execution_count": null,
   "id": "ba5f6e5f",
   "metadata": {
    "vscode": {
     "languageId": "bat"
    }
   },
   "outputs": [],
   "source": [
    "!fastfetch --logo saki-color.txt"
   ]
  },
  {
   "cell_type": "code",
   "execution_count": 15,
   "id": "471f76c0",
   "metadata": {
    "vscode": {
     "languageId": "bat"
    }
   },
   "outputs": [
    {
     "name": "stdout",
     "output_type": "stream",
     "text": [
      "C:\\WINDOWS\n"
     ]
    }
   ],
   "source": [
    "!echo %Windir%"
   ]
  },
  {
   "cell_type": "code",
   "execution_count": 16,
   "id": "e22395c9",
   "metadata": {
    "vscode": {
     "languageId": "shellscript"
    }
   },
   "outputs": [
    {
     "name": "stdout",
     "output_type": "stream",
     "text": [
      "use std::env;\n",
      "\n",
      "fn main() {\n",
      "    let args: Vec<String> = env::args().collect();\n",
      "    let language = if args.len() > 1 {\n",
      "        &args[1]\n",
      "    } else {\n",
      "        \"Rust\"\n",
      "    };\n",
      "    println!(\"{language} 是全宇宙最好的语言\");\n",
      "}\n",
      "Rust 是全宇宙最好的语言\n",
      "Python 是全宇宙最好的语言\n"
     ]
    }
   ],
   "source": [
    "%%sh\n",
    "cat hello.rs\n",
    "rustc hello.rs -o hello.exe\n",
    "./hello.exe\n",
    "./hello.exe Python"
   ]
  },
  {
   "cell_type": "code",
   "execution_count": 17,
   "id": "cb081913",
   "metadata": {
    "vscode": {
     "languageId": "shellscript"
    }
   },
   "outputs": [
    {
     "name": "stdout",
     "output_type": "stream",
     "text": [
      "/e/Program/miniforge3/envs/pytorch\n",
      "/e/Program/miniforge3/envs/pytorch\n",
      "/e/Program/miniforge3/envs/pytorch/Library/mingw-w64/bin\n",
      "/e/Program/miniforge3/envs/pytorch/Library/usr/bin\n",
      "/e/Program/miniforge3/envs/pytorch/Library/bin\n",
      "/e/Program/miniforge3/envs/pytorch/Scripts\n",
      "/e/Program/miniforge3/envs/pytorch/bin\n",
      "/e/Program/miniforge3/condabin\n"
     ]
    }
   ],
   "source": [
    "%%sh\n",
    "echo $PATH | tr ':' '\\n' | rg 'miniforge'"
   ]
  },
  {
   "cell_type": "markdown",
   "id": "d16fb37b",
   "metadata": {},
   "source": [
    "## 导出\n",
    "\n",
    "导出可以使用 `nbconvert` 或 `pandoc`。前者可以通过 `pip install nbconvert` 来安装，*VSCode* 的导出实际上就使用了 `nbconvert`。\n",
    "\n",
    "`nbconvert` 支持导出为 *PDF* 和 *HTML*。不过对于 *PDF*，建议先导出为 *HTML*，再使用浏览器的 *打印* 功能。如果想直接转换为 *PDF*，不管是 `nbconvert` 还是 `pandoc` 都会尝试使用 $\\LaTeX$ 进行编译，因此需要安装 $\\TeX$ 环境；不仅如此，对于中文字体还需要额外的设置。"
   ]
  }
 ],
 "metadata": {
  "kernelspec": {
   "display_name": "df",
   "language": "python",
   "name": "python3"
  },
  "language_info": {
   "codemirror_mode": {
    "name": "ipython",
    "version": 3
   },
   "file_extension": ".py",
   "mimetype": "text/x-python",
   "name": "python",
   "nbconvert_exporter": "python",
   "pygments_lexer": "ipython3",
   "version": "3.13.5"
  }
 },
 "nbformat": 4,
 "nbformat_minor": 5
}
